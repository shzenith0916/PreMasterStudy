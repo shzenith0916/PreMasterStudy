{
 "cells": [
  {
   "cell_type": "markdown",
   "metadata": {
    "deletable": true,
    "editable": true
   },
   "source": [
    "# Exercise in File Handling\n",
    "### (1) Create a function that writes a string to a file called 'cache.txt'\n",
    "    demo_text = \"Hello\\nThis is a text file\\nCheck if this file exists after writing it\"\n",
    "    \n",
    "    def write_to_file(text):\n",
    "        '''This function writes the string passed in 'text' to the file called cache.txt'''\n",
    "        # Your code goes here"
   ]
  },
  {
   "cell_type": "code",
   "execution_count": 1,
   "metadata": {
    "collapsed": true,
    "deletable": true,
    "editable": true
   },
   "outputs": [],
   "source": [
    "def write_to_file(text):\n",
    "    with open('sh_cache.txt', 'w') as string_file:\n",
    "        string_file.write(text)\n",
    "        \n",
    "demo_text = \"Hello\\nThis is a text file\\nCheck if this file exists after writing it.\"  \n",
    "\n",
    "write_to_file(demo_text)"
   ]
  },
  {
   "cell_type": "code",
   "execution_count": 2,
   "metadata": {
    "collapsed": true,
    "deletable": true,
    "editable": true
   },
   "outputs": [],
   "source": [
    "def write_to_file2(text):\n",
    "    st_file = open('sh_cache.txt','w')\n",
    "    st_file.write(text)\n",
    "    st_file.close()\n",
    "\n",
    "demo_text = \"Hello\\nThis is a text file\\nCheck if this file exists after writing it.\"\n",
    "\n",
    "write_to_file2(demo_text)"
   ]
  },
  {
   "cell_type": "markdown",
   "metadata": {
    "deletable": true,
    "editable": true
   },
   "source": [
    "### (2) Create a function that reads a string from a file called 'cache.txt' and returns it\n",
    "\n",
    "    def read_from_file():\n",
    "        '''This function should return the full text of the file cache.txt'''\n",
    "        # Your code goes here\n"
   ]
  },
  {
   "cell_type": "code",
   "execution_count": 13,
   "metadata": {
    "collapsed": true,
    "deletable": true,
    "editable": true
   },
   "outputs": [],
   "source": [
    "def read_from_file():\n",
    "    with open('cache.txt','r') as cachetxt:\n",
    "        return [line.strip() for line in cachetxt.readlines()]"
   ]
  },
  {
   "cell_type": "code",
   "execution_count": 14,
   "metadata": {
    "collapsed": false,
    "deletable": true,
    "editable": true
   },
   "outputs": [
    {
     "data": {
      "text/plain": [
       "['Hello', 'This is a text file', 'Check if this file exists after writing it.']"
      ]
     },
     "execution_count": 14,
     "metadata": {},
     "output_type": "execute_result"
    }
   ],
   "source": [
    "read_from_file()"
   ]
  },
  {
   "cell_type": "code",
   "execution_count": null,
   "metadata": {
    "collapsed": true,
    "deletable": true,
    "editable": true
   },
   "outputs": [],
   "source": []
  }
 ],
 "metadata": {
  "kernelspec": {
   "display_name": "Python 3",
   "language": "python",
   "name": "python3"
  },
  "language_info": {
   "codemirror_mode": {
    "name": "ipython",
    "version": 3
   },
   "file_extension": ".py",
   "mimetype": "text/x-python",
   "name": "python",
   "nbconvert_exporter": "python",
   "pygments_lexer": "ipython3",
   "version": "3.5.2"
  }
 },
 "nbformat": 4,
 "nbformat_minor": 2
}
