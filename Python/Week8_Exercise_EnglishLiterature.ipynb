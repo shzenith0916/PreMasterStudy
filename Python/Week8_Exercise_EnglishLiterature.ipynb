{
 "cells": [
  {
   "cell_type": "markdown",
   "metadata": {
    "deletable": true,
    "editable": true
   },
   "source": [
    "# Module"
   ]
  },
  {
   "cell_type": "markdown",
   "metadata": {
    "deletable": true,
    "editable": true
   },
   "source": [
    "### Create a *module* that provides a function that checks whether an input string is a word in wordlist that you read from a file."
   ]
  },
  {
   "cell_type": "code",
   "execution_count": null,
   "metadata": {
    "collapsed": true
   },
   "outputs": [],
   "source": [
    "#module code\n",
    "\n",
    "with open('american-english-wordlist.txt','r') as wordfile:\n",
    "    wordlist = [word.strip() for word in wordfile.readlines()]\n",
    "    \n",
    "def spellcheck():\n",
    "    string = input(\"What would you like to spell check? \")\n",
    "    words = string.lower().split()\n",
    "    valid = [word for word in words if word in wordlist]\n",
    "    invalid = [word for word in words if word not in wordlist]\n",
    "    print(\"Valid: {}\".format(valid), \"Invalid: {}\".format(invalid))\n",
    "    return valid, invalid"
   ]
  },
  {
   "cell_type": "code",
   "execution_count": null,
   "metadata": {
    "collapsed": false,
    "deletable": true,
    "editable": true
   },
   "outputs": [],
   "source": [
    "import american_english_wordcheck as wordcheck"
   ]
  },
  {
   "cell_type": "code",
   "execution_count": null,
   "metadata": {
    "collapsed": false,
    "deletable": true,
    "editable": true
   },
   "outputs": [],
   "source": [
    "wordcheck.spellcheck()"
   ]
  },
  {
   "cell_type": "markdown",
   "metadata": {
    "collapsed": false,
    "deletable": true,
    "editable": true
   },
   "source": [
    "### Select an English book and reuse module. \n",
    "* Write a small algorithm/script to calculate what percentage of the text is not in the word list.\n",
    "* What are commonly used words not present in the wordlist?\n",
    "* Did you standardize uppercase/lowercase? Strip any punctuation characters?"
   ]
  },
  {
   "cell_type": "code",
   "execution_count": 1,
   "metadata": {
    "collapsed": false,
    "deletable": true,
    "editable": true
   },
   "outputs": [],
   "source": [
    "with open('american-english-wordlist.txt','r') as wordfile:\n",
    "    validwords = [word.strip() for word in wordfile.readlines()]"
   ]
  },
  {
   "cell_type": "code",
   "execution_count": 2,
   "metadata": {
    "collapsed": false,
    "deletable": true,
    "editable": true
   },
   "outputs": [
    {
     "name": "stdout",
     "output_type": "stream",
     "text": [
      "140185\n"
     ]
    },
    {
     "data": {
      "text/plain": [
       "['the',\n",
       " 'project',\n",
       " 'gutenberg',\n",
       " 'ebook',\n",
       " 'of',\n",
       " 'adventures',\n",
       " 'of',\n",
       " 'huckleberry',\n",
       " 'finn',\n",
       " '']"
      ]
     },
     "execution_count": 2,
     "metadata": {},
     "output_type": "execute_result"
    }
   ],
   "source": [
    "!pip install -q nltk\n",
    "import nltk\n",
    "\n",
    "with open('huckfinn.txt','r') as textfile:\n",
    "    fulltext = textfile.read()\n",
    "    huckfinnwords = nltk.word_tokenize(fulltext)\n",
    "    huckfinnwords = [word.lower().strip('.').strip(',').strip('!').strip('-').strip('_') for word in huckfinnwords]\n",
    "\n",
    "print(len(huckfinnwords))\n",
    "huckfinnwords[0:10]"
   ]
  },
  {
   "cell_type": "code",
   "execution_count": 3,
   "metadata": {
    "collapsed": false,
    "deletable": true,
    "editable": true
   },
   "outputs": [
    {
     "data": {
      "text/plain": [
       "77.60316724328565"
      ]
     },
     "execution_count": 3,
     "metadata": {},
     "output_type": "execute_result"
    }
   ],
   "source": [
    "def percentage_valid(text):\n",
    "    valid = [word for word in text if word in validwords]\n",
    "    percentage = ((len(valid))/len(text))*100\n",
    "    return percentage\n",
    "\n",
    "percentage_valid(huckfinnwords)"
   ]
  },
  {
   "cell_type": "code",
   "execution_count": null,
   "metadata": {
    "collapsed": false,
    "deletable": true,
    "editable": true
   },
   "outputs": [],
   "source": [
    "def invalid_words_frequency(text):\n",
    "    invalid = [word for word in text if word not in validwords]\n",
    "    frequency = {word:invalid.count(word) for word in invalid}\n",
    "    return frequency\n",
    "\n",
    "invalid_words_frequency(huckfinnwords)"
   ]
  },
  {
   "cell_type": "code",
   "execution_count": null,
   "metadata": {
    "collapsed": true,
    "deletable": true,
    "editable": true
   },
   "outputs": [],
   "source": []
  }
 ],
 "metadata": {
  "kernelspec": {
   "display_name": "Python 3",
   "language": "python",
   "name": "python3"
  },
  "language_info": {
   "codemirror_mode": {
    "name": "ipython",
    "version": 3
   },
   "file_extension": ".py",
   "mimetype": "text/x-python",
   "name": "python",
   "nbconvert_exporter": "python",
   "pygments_lexer": "ipython3",
   "version": "3.5.2"
  }
 },
 "nbformat": 4,
 "nbformat_minor": 2
}
