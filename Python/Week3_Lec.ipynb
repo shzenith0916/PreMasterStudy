{
 "cells": [
  {
   "cell_type": "markdown",
   "metadata": {
    "deletable": true,
    "editable": true
   },
   "source": [
    "## What happens when a function is invoked?"
   ]
  },
  {
   "cell_type": "code",
   "execution_count": 4,
   "metadata": {
    "collapsed": false,
    "deletable": true,
    "editable": true
   },
   "outputs": [
    {
     "name": "stdout",
     "output_type": "stream",
     "text": [
      "Temperature : 10\n",
      "In Fahrenheit, the temperature is 50.0\n"
     ]
    }
   ],
   "source": [
    "# Example\n",
    "\n",
    "def celcius_to_fahrenheit(in_celcius):\n",
    "    in_fahrenheit = 9/5 * in_celcius + 32\n",
    "    return in_fahrenheit\n",
    "    \n",
    "def format_and_show_result(in_fahrenheit):\n",
    "    print('In Fahrenheit, the temperature is {}'.format(in_fahrenheit))\n",
    "\n",
    "temp_in_celcius = float(input('Temperature : '))\n",
    "temp_in_fahrenheit = celcius_to_fahrenheit(temp_in_celcius)\n",
    "format_and_show_result(temp_in_fahrenheit)"
   ]
  },
  {
   "cell_type": "markdown",
   "metadata": {
    "deletable": true,
    "editable": true
   },
   "source": [
    "## When a function is called:\n",
    "\n",
    "* Execution of the 'calling' sequence of instructions is (temporarily) *suspended*\n",
    "* The **formal parameter(s)** (e.g.: *in_celcius*) is/are assigned the value(s) of the **actual parameters** (e.g. temp_in_fahrenheit)\n",
    "* Control/execution is transferred to the function body\n",
    "* The (instructions in the) body of the function are/is executed\n",
    "* A value *can* be returned (if a `return` statement is present)\n",
    "* Control/execution is passed back to where the function was called\n",
    "* Execution continues / normal flow of execution resumes"
   ]
  },
  {
   "cell_type": "markdown",
   "metadata": {
    "deletable": true,
    "editable": true
   },
   "source": [
    "## Local and Global scopes"
   ]
  },
  {
   "cell_type": "code",
   "execution_count": 5,
   "metadata": {
    "collapsed": false,
    "deletable": true,
    "editable": true
   },
   "outputs": [
    {
     "name": "stdout",
     "output_type": "stream",
     "text": [
      "Hi Student!\n"
     ]
    }
   ],
   "source": [
    "def greeting_message(name):\n",
    "    return \"Hi {}!\".format(name) # String interpolation\n",
    "\n",
    "def greet():\n",
    "    whom_to_greet = 'Student'\n",
    "    print(greeting_message(whom_to_greet))\n",
    "    \n",
    "greet()    "
   ]
  },
  {
   "cell_type": "code",
   "execution_count": 6,
   "metadata": {
    "collapsed": false,
    "deletable": true,
    "editable": true
   },
   "outputs": [
    {
     "name": "stdout",
     "output_type": "stream",
     "text": [
      "Hello Student!\n"
     ]
    },
    {
     "ename": "NameError",
     "evalue": "name 'greeting_msg' is not defined",
     "output_type": "error",
     "traceback": [
      "\u001b[0;31m---------------------------------------------------------------------------\u001b[0m",
      "\u001b[0;31mNameError\u001b[0m                                 Traceback (most recent call last)",
      "\u001b[0;32m<ipython-input-6-0ee32a2d70dd>\u001b[0m in \u001b[0;36m<module>\u001b[0;34m()\u001b[0m\n\u001b[1;32m      9\u001b[0m \u001b[0mgreet\u001b[0m\u001b[0;34m(\u001b[0m\u001b[0;34m)\u001b[0m\u001b[0;34m\u001b[0m\u001b[0m\n\u001b[1;32m     10\u001b[0m \u001b[0;34m\u001b[0m\u001b[0m\n\u001b[0;32m---> 11\u001b[0;31m \u001b[0mgreeting_msg\u001b[0m\u001b[0;34m(\u001b[0m\u001b[0;34m'there'\u001b[0m\u001b[0;34m)\u001b[0m\u001b[0;34m\u001b[0m\u001b[0m\n\u001b[0m",
      "\u001b[0;31mNameError\u001b[0m: name 'greeting_msg' is not defined"
     ]
    }
   ],
   "source": [
    "def greet():\n",
    "\n",
    "    def greeting_msg():\n",
    "        return \"Hello {}!\".format(whom_to_greet) # String interpolation\n",
    "    \n",
    "    whom_to_greet = 'Student'\n",
    "    print(greeting_msg())\n",
    "    \n",
    "greet()\n",
    "\n",
    "greeting_msg('there')"
   ]
  },
  {
   "cell_type": "code",
   "execution_count": 7,
   "metadata": {
    "collapsed": false,
    "deletable": true,
    "editable": true
   },
   "outputs": [
    {
     "name": "stdout",
     "output_type": "stream",
     "text": [
      "EUR 3500 plus 7% interest adds up to EUR 3745.0\n",
      "EUR 4200 plus 8% interest adds up to EUR 4536.0\n"
     ]
    },
    {
     "ename": "NameError",
     "evalue": "name 'base_amount' is not defined",
     "output_type": "error",
     "traceback": [
      "\u001b[0;31m---------------------------------------------------------------------------\u001b[0m",
      "\u001b[0;31mNameError\u001b[0m                                 Traceback (most recent call last)",
      "\u001b[0;32m<ipython-input-7-964d67de0272>\u001b[0m in \u001b[0;36m<module>\u001b[0;34m()\u001b[0m\n\u001b[1;32m      8\u001b[0m print('EUR 4200 plus 8% interest adds up to EUR {}'.\n\u001b[1;32m      9\u001b[0m       format(sum_plus_interest(4200, 8)))\n\u001b[0;32m---> 10\u001b[0;31m \u001b[0mprint\u001b[0m\u001b[0;34m(\u001b[0m\u001b[0mbase_amount\u001b[0m\u001b[0;34m)\u001b[0m\u001b[0;34m\u001b[0m\u001b[0m\n\u001b[0m",
      "\u001b[0;31mNameError\u001b[0m: name 'base_amount' is not defined"
     ]
    }
   ],
   "source": [
    "# What are the scoping rules for formal parameters?\n",
    "\n",
    "def sum_plus_interest(base_amount, percentage):\n",
    "    return base_amount * (100 + percentage) / 100\n",
    "\n",
    "print('EUR 3500 plus 7% interest adds up to EUR {}'.\n",
    "      format(sum_plus_interest(3500, 7)))\n",
    "print('EUR 4200 plus 8% interest adds up to EUR {}'.\n",
    "      format(sum_plus_interest(4200, 8)))\n",
    "print(base_amount)"
   ]
  },
  {
   "cell_type": "markdown",
   "metadata": {
    "deletable": true,
    "editable": true
   },
   "source": [
    "# Iteration\n",
    "* **Iteration**: the ability to run (a block of) statements **repeatedly**\n",
    "* One way to iterate through a block of statements: `while` loop"
   ]
  },
  {
   "cell_type": "code",
   "execution_count": 8,
   "metadata": {
    "collapsed": false,
    "deletable": true,
    "editable": true
   },
   "outputs": [
    {
     "name": "stdout",
     "output_type": "stream",
     "text": [
      "Variable a now has the value 7\n",
      "Variable a now has the value 5\n",
      "Variable a now has the value 21.0\n"
     ]
    }
   ],
   "source": [
    "# Reassignment\n",
    "# A variable may be assigned a (new) value multiple times, its value may change over the duration of the program\n",
    "\n",
    "a = 7\n",
    "print(\"Variable a now has the value {}\".format(a))\n",
    "\n",
    "a = 5\n",
    "print(\"Variable a now has the value {}\".format(a))\n",
    "\n",
    "b = 30 / 3\n",
    "a = b + 11\n",
    "print(\"Variable a now has the value {}\".format(a))"
   ]
  },
  {
   "cell_type": "code",
   "execution_count": 9,
   "metadata": {
    "collapsed": false,
    "deletable": true,
    "editable": true
   },
   "outputs": [
    {
     "data": {
      "text/plain": [
       "'The sum of 3 and 4 equals to 7'"
      ]
     },
     "execution_count": 9,
     "metadata": {},
     "output_type": "execute_result"
    }
   ],
   "source": [
    "\"The sum of {} and {} equals to {}\".format(3, 4, 7)"
   ]
  },
  {
   "cell_type": "markdown",
   "metadata": {
    "deletable": true,
    "editable": true
   },
   "source": [
    "* increment a variable: add 1 to the (current) value of the variable\n",
    "* decrement a variable: subtract 1 from the (current) value of the variable"
   ]
  },
  {
   "cell_type": "code",
   "execution_count": 10,
   "metadata": {
    "collapsed": false,
    "deletable": true,
    "editable": true
   },
   "outputs": [
    {
     "name": "stdout",
     "output_type": "stream",
     "text": [
      "0\n",
      "1\n",
      "2\n",
      "3\n",
      "4\n",
      "5\n",
      "6\n",
      "7\n",
      "8\n",
      "9\n"
     ]
    }
   ],
   "source": [
    "# While-Loop\n",
    "\n",
    "def count_until_ten(x):\n",
    "    x = 0\n",
    "    while x < 10:\n",
    "        print(x)\n",
    "        x += 1                   \n",
    "        \n",
    "count_until_ten(5)\n",
    "\n",
    "#this function prints out from 0 to 9 regradless of input x in function\n",
    "#because in function initial x value is assigned to 0"
   ]
  },
  {
   "cell_type": "code",
   "execution_count": 11,
   "metadata": {
    "collapsed": false,
    "deletable": true,
    "editable": true
   },
   "outputs": [
    {
     "name": "stdout",
     "output_type": "stream",
     "text": [
      "1\n",
      "2\n",
      "3\n",
      "4\n",
      "5\n",
      "6\n",
      "7\n",
      "8\n",
      "9\n",
      "10\n"
     ]
    }
   ],
   "source": [
    "i=0\n",
    "\n",
    "while i != 10:\n",
    "    i += 1\n",
    "    print(i)\n",
    "\n",
    "# this while-loop will print out the numbers from 1 to 10 then exit"
   ]
  },
  {
   "cell_type": "code",
   "execution_count": 12,
   "metadata": {
    "collapsed": false,
    "deletable": true,
    "editable": true
   },
   "outputs": [
    {
     "name": "stdout",
     "output_type": "stream",
     "text": [
      "Here is piece no. 1, enjoy!\n",
      "Here is piece no. 2, enjoy!\n",
      "Here is piece no. 3, enjoy!\n",
      "Here is piece no. 4, enjoy!\n",
      "Here is piece no. 5, enjoy!\n",
      "Here is piece no. 6, enjoy!\n",
      "Here is piece no. 7, enjoy!\n",
      "Here is piece no. 8, enjoy!\n",
      "We are out of cake now.\n",
      "We handed out all 8 pieces of cake\n"
     ]
    }
   ],
   "source": [
    "def hand_out_cake(total_nr_of_pieces):\n",
    "    \n",
    "    piece_number = 1 # initialize\n",
    "\n",
    "    while piece_number <= total_nr_of_pieces:\n",
    "        print(\"Here is piece no. {}, enjoy!\".format(piece_number))     # Body of the ...\n",
    "        #break\n",
    "        piece_number += 1   # ... while loop\n",
    "        \n",
    "    print(\"We are out of cake now.\")\n",
    "    print(\"We handed out all {} pieces of cake\".format(piece_number-1))\n",
    "    \n",
    "hand_out_cake(8)"
   ]
  },
  {
   "cell_type": "markdown",
   "metadata": {
    "deletable": true,
    "editable": true
   },
   "source": [
    "* Stopping (terminating) condition\n",
    "* Body of the loop\n",
    "* Beware of *endless* loops\n",
    "* Prove termination of the loop"
   ]
  },
  {
   "cell_type": "markdown",
   "metadata": {
    "deletable": true,
    "editable": true
   },
   "source": [
    "## Another way to end a loop\n",
    "* `break` statement\n",
    "* will immediately exit to the first statement *after the body* of the loop.\n",
    "* Allows you to break anywhere in the loop"
   ]
  },
  {
   "cell_type": "code",
   "execution_count": 13,
   "metadata": {
    "collapsed": false,
    "deletable": true,
    "editable": true
   },
   "outputs": [
    {
     "name": "stdout",
     "output_type": "stream",
     "text": [
      "Here is piece no. 1, enjoy!\n",
      "We are out of cake now.\n",
      "We handed out all 0 pieces of cake\n"
     ]
    }
   ],
   "source": [
    "def hand_out_cake(total_nr_of_pieces):\n",
    "    \n",
    "    piece_number = 1 # initialize\n",
    "\n",
    "    while piece_number <= total_nr_of_pieces:\n",
    "        print(\"Here is piece no. {}, enjoy!\".format(piece_number))     # Body of the ...\n",
    "        break\n",
    "        piece_number += 1   # ... while loop\n",
    "        \n",
    "    print(\"We are out of cake now.\")\n",
    "    print(\"We handed out all {} pieces of cake\".format(piece_number-1))\n",
    "    \n",
    "hand_out_cake(8)"
   ]
  },
  {
   "cell_type": "markdown",
   "metadata": {},
   "source": [
    "## ASCII CODE - chr, ord function"
   ]
  },
  {
   "cell_type": "code",
   "execution_count": 14,
   "metadata": {
    "collapsed": false
   },
   "outputs": [
    {
     "name": "stdout",
     "output_type": "stream",
     "text": [
      "1031\n"
     ]
    }
   ],
   "source": [
    "import pip \n",
    "pip.main(['install', '-q', 'pyprimes']) # Install pyprimes if not already installed\n",
    "import pyprimes\n",
    "\n",
    "def first_prime_above(n):\n",
    "    candidate_prime = n\n",
    "    while not pyprimes.isprime(candidate_prime):\n",
    "        candidate_prime = candidate_prime + 1\n",
    "    return candidate_prime\n",
    "\n",
    "print (first_prime_above(1024))"
   ]
  },
  {
   "cell_type": "code",
   "execution_count": 15,
   "metadata": {
    "collapsed": false
   },
   "outputs": [
    {
     "name": "stdout",
     "output_type": "stream",
     "text": [
      "122\n"
     ]
    }
   ],
   "source": [
    "print(ord('z'))"
   ]
  },
  {
   "cell_type": "code",
   "execution_count": 16,
   "metadata": {
    "collapsed": false
   },
   "outputs": [
    {
     "data": {
      "text/plain": [
       "'B'"
      ]
     },
     "execution_count": 16,
     "metadata": {},
     "output_type": "execute_result"
    }
   ],
   "source": [
    "#print(chr(65))\n",
    "letter = 'A'\n",
    "next_letter = chr(ord(letter) + 1)\n",
    "next_letter"
   ]
  },
  {
   "cell_type": "markdown",
   "metadata": {},
   "source": [
    "## Looping -  For...in.... function"
   ]
  },
  {
   "cell_type": "code",
   "execution_count": 17,
   "metadata": {
    "collapsed": false,
    "deletable": true,
    "editable": true
   },
   "outputs": [
    {
     "name": "stdout",
     "output_type": "stream",
     "text": [
      "1\n",
      "2\n",
      "3\n",
      "4\n",
      "5\n",
      "6\n"
     ]
    }
   ],
   "source": [
    "for x in range(1,7):\n",
    "    print(x)"
   ]
  },
  {
   "cell_type": "code",
   "execution_count": 18,
   "metadata": {
    "collapsed": false,
    "deletable": true,
    "editable": true
   },
   "outputs": [
    {
     "name": "stdout",
     "output_type": "stream",
     "text": [
      "x is less than y\n",
      "x is not greater than y\n"
     ]
    }
   ],
   "source": [
    "x = 5\n",
    "y = 8\n",
    "\n",
    "if x < y:\n",
    "    print('x is less than y')\n",
    "if x > 55:\n",
    "    print('x is greater than 55')\n",
    "else:\n",
    "    print('x is not greater than y')"
   ]
  },
  {
   "cell_type": "code",
   "execution_count": 19,
   "metadata": {
    "collapsed": false,
    "deletable": true,
    "editable": true
   },
   "outputs": [
    {
     "name": "stdout",
     "output_type": "stream",
     "text": [
      "x is less than z\n"
     ]
    }
   ],
   "source": [
    "x = 5\n",
    "y = 10\n",
    "z = 22\n",
    "\n",
    "if x > y:\n",
    "    print('x is greater than y')\n",
    "elif x < z:\n",
    "    print('x is less than z') # As soon as this elif statement is true, below statement does not run\n",
    "else:\n",
    "    print('if and elif(s) never ran')"
   ]
  },
  {
   "cell_type": "code",
   "execution_count": 20,
   "metadata": {
    "collapsed": false,
    "deletable": true,
    "editable": true
   },
   "outputs": [
    {
     "name": "stdout",
     "output_type": "stream",
     "text": [
      "if and elif(s) never ran\n"
     ]
    }
   ],
   "source": [
    "x = 5\n",
    "y = 10\n",
    "z = 22\n",
    "\n",
    "if x > y:\n",
    "    print('x is greater than y')\n",
    "elif x == z:\n",
    "    print('x is equal than z')\n",
    "else:\n",
    "    print('if and elif(s) never ran')"
   ]
  },
  {
   "cell_type": "code",
   "execution_count": null,
   "metadata": {
    "collapsed": true,
    "deletable": true,
    "editable": true
   },
   "outputs": [],
   "source": []
  }
 ],
 "metadata": {
  "kernelspec": {
   "display_name": "Python 3",
   "language": "python",
   "name": "python3"
  },
  "language_info": {
   "codemirror_mode": {
    "name": "ipython",
    "version": 3
   },
   "file_extension": ".py",
   "mimetype": "text/x-python",
   "name": "python",
   "nbconvert_exporter": "python",
   "pygments_lexer": "ipython3",
   "version": "3.5.2"
  }
 },
 "nbformat": 4,
 "nbformat_minor": 2
}
