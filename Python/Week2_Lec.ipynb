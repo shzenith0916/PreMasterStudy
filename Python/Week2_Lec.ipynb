{
 "cells": [
  {
   "cell_type": "code",
   "execution_count": 1,
   "metadata": {
    "collapsed": false,
    "deletable": true,
    "editable": true
   },
   "outputs": [
    {
     "name": "stdout",
     "output_type": "stream",
     "text": [
      "num1 is 2\n",
      "num2 is 5\n",
      "7\n"
     ]
    }
   ],
   "source": [
    "def addition(num1,num2):\n",
    "    answer = num1+num2\n",
    "    print('num1 is',num1)\n",
    "    print('num2 is',num2)\n",
    "    print(answer)\n",
    "    \n",
    "addition(2,5)"
   ]
  },
  {
   "cell_type": "code",
   "execution_count": 2,
   "metadata": {
    "collapsed": false,
    "deletable": true,
    "editable": true
   },
   "outputs": [
    {
     "name": "stdout",
     "output_type": "stream",
     "text": [
      "5 5\n"
     ]
    }
   ],
   "source": [
    "# num2=5 is default value\n",
    "def simple(num1,num2=5):\n",
    "    print(num1,num2)\n",
    "simple(5)"
   ]
  },
  {
   "cell_type": "code",
   "execution_count": 3,
   "metadata": {
    "collapsed": false,
    "deletable": true,
    "editable": true
   },
   "outputs": [
    {
     "name": "stdout",
     "output_type": "stream",
     "text": [
      "500 300 TNR w\n"
     ]
    }
   ],
   "source": [
    "# why do you use default value? Even if you do not type rest of elements, \n",
    "# there will be basic infomation about that specific function\n",
    "def basic_window(width,height,font='TNR',\n",
    "                bgc='w',scrollbar=True):\n",
    "    print(width,height,font,bgc)\n",
    "\n",
    "basic_window(500,300)"
   ]
  },
  {
   "cell_type": "code",
   "execution_count": 4,
   "metadata": {
    "collapsed": false,
    "deletable": true,
    "editable": true
   },
   "outputs": [
    {
     "name": "stdout",
     "output_type": "stream",
     "text": [
      "500 300 TNR b\n"
     ]
    }
   ],
   "source": [
    "#what if you want to modify?\n",
    "basic_window(500,300,bgc='b')"
   ]
  },
  {
   "cell_type": "markdown",
   "metadata": {
    "deletable": true,
    "editable": true
   },
   "source": [
    "## Global and Local Variables\n",
    "* Global: variables that can be accessed anywhere\n",
    "* Local: variables that can only be accessed within an environment/frame"
   ]
  },
  {
   "cell_type": "code",
   "execution_count": 5,
   "metadata": {
    "collapsed": false,
    "deletable": true,
    "editable": true
   },
   "outputs": [
    {
     "name": "stdout",
     "output_type": "stream",
     "text": [
      "5\n"
     ]
    }
   ],
   "source": [
    "def example():\n",
    "    z=5 #Local variable \n",
    "    print(z)\n",
    "example()"
   ]
  },
  {
   "cell_type": "code",
   "execution_count": 6,
   "metadata": {
    "collapsed": false,
    "deletable": true,
    "editable": true
   },
   "outputs": [
    {
     "name": "stdout",
     "output_type": "stream",
     "text": [
      "6\n"
     ]
    }
   ],
   "source": [
    "x = 6 #Local variable\n",
    "def example():\n",
    "    z=5\n",
    "    print(x)\n",
    "example()"
   ]
  },
  {
   "cell_type": "code",
   "execution_count": 1,
   "metadata": {
    "collapsed": false,
    "deletable": true,
    "editable": true,
    "scrolled": true
   },
   "outputs": [
    {
     "ename": "UnboundLocalError",
     "evalue": "local variable 'x' referenced before assignment",
     "output_type": "error",
     "traceback": [
      "\u001b[0;31m---------------------------------------------------------------------------\u001b[0m",
      "\u001b[0;31mUnboundLocalError\u001b[0m                         Traceback (most recent call last)",
      "\u001b[0;32m<ipython-input-1-34c0ca2973d4>\u001b[0m in \u001b[0;36m<module>\u001b[0;34m()\u001b[0m\n\u001b[1;32m      5\u001b[0m \u001b[0;34m\u001b[0m\u001b[0m\n\u001b[1;32m      6\u001b[0m     \u001b[0mx\u001b[0m\u001b[0;34m+=\u001b[0m\u001b[0;36m6\u001b[0m\u001b[0;34m\u001b[0m\u001b[0m\n\u001b[0;32m----> 7\u001b[0;31m \u001b[0mexample\u001b[0m\u001b[0;34m(\u001b[0m\u001b[0;34m)\u001b[0m\u001b[0;34m\u001b[0m\u001b[0m\n\u001b[0m",
      "\u001b[0;32m<ipython-input-1-34c0ca2973d4>\u001b[0m in \u001b[0;36mexample\u001b[0;34m()\u001b[0m\n\u001b[1;32m      1\u001b[0m \u001b[0;34m\u001b[0m\u001b[0m\n\u001b[1;32m      2\u001b[0m \u001b[0;32mdef\u001b[0m \u001b[0mexample\u001b[0m\u001b[0;34m(\u001b[0m\u001b[0;34m)\u001b[0m\u001b[0;34m:\u001b[0m\u001b[0;34m\u001b[0m\u001b[0m\n\u001b[0;32m----> 3\u001b[0;31m     \u001b[0mprint\u001b[0m\u001b[0;34m(\u001b[0m\u001b[0mx\u001b[0m\u001b[0;34m)\u001b[0m\u001b[0;34m\u001b[0m\u001b[0m\n\u001b[0m\u001b[1;32m      4\u001b[0m     \u001b[0mprint\u001b[0m\u001b[0;34m(\u001b[0m\u001b[0mx\u001b[0m\u001b[0;34m+\u001b[0m\u001b[0;36m5\u001b[0m\u001b[0;34m)\u001b[0m\u001b[0;34m\u001b[0m\u001b[0m\n\u001b[1;32m      5\u001b[0m \u001b[0;34m\u001b[0m\u001b[0m\n",
      "\u001b[0;31mUnboundLocalError\u001b[0m: local variable 'x' referenced before assignment"
     ]
    }
   ],
   "source": [
    "x = 7 \n",
    "def example():\n",
    "    print(x)\n",
    "    print(x+5)\n",
    "    \n",
    "    x+=6\n",
    "example()"
   ]
  },
  {
   "cell_type": "code",
   "execution_count": 9,
   "metadata": {
    "collapsed": false,
    "deletable": true,
    "editable": true
   },
   "outputs": [
    {
     "name": "stdout",
     "output_type": "stream",
     "text": [
      "7\n",
      "12\n"
     ]
    }
   ],
   "source": [
    "x=7\n",
    "def example():\n",
    "    global x #Assign global vairable\n",
    "    print(x)\n",
    "    x+=5\n",
    "    print(x)\n",
    "example()\n",
    "\n",
    "# People rarely use global variable"
   ]
  },
  {
   "cell_type": "markdown",
   "metadata": {
    "deletable": true,
    "editable": true
   },
   "source": [
    "## Scope\n",
    "* Scope: the places where a _variable_ may be referenced (_used_)\n",
    "* Variables *within* a function are local: they are not visible outside the function _declaring_ them"
   ]
  },
  {
   "cell_type": "markdown",
   "metadata": {
    "deletable": true,
    "editable": true
   },
   "source": [
    "## Function definition\n",
    "* **function**: _named_ sequence of statements (although 'anonymous functions' exist)\n",
    "* The (sequence of) statements can be called **multiple** times"
   ]
  },
  {
   "cell_type": "code",
   "execution_count": 10,
   "metadata": {
    "collapsed": false,
    "deletable": true,
    "editable": true
   },
   "outputs": [
    {
     "name": "stdout",
     "output_type": "stream",
     "text": [
      "Hello sunny\n"
     ]
    }
   ],
   "source": [
    "def print_welcome_message(name):\n",
    "    print('Hello ' + name)\n",
    "    \n",
    "print_welcome_message('sunny')"
   ]
  },
  {
   "cell_type": "markdown",
   "metadata": {
    "deletable": true,
    "editable": true
   },
   "source": [
    "* This function `print_hello_message` takes one **argument** called name\n",
    "* Arguments make functions more general to use\n",
    "* A function may return a **result**\n",
    "* function is _called_, also known as _invoked_\n",
    "* may return a result (typically good programming practice!)"
   ]
  },
  {
   "cell_type": "code",
   "execution_count": 11,
   "metadata": {
    "collapsed": false,
    "deletable": true,
    "editable": true
   },
   "outputs": [
    {
     "name": "stdout",
     "output_type": "stream",
     "text": [
      "6.0\n"
     ]
    }
   ],
   "source": [
    "def divide_30_by(divisor):\n",
    "    return 30 / divisor\n",
    "\n",
    "print(divide_30_by(5))"
   ]
  },
  {
   "cell_type": "code",
   "execution_count": 12,
   "metadata": {
    "collapsed": false,
    "deletable": true,
    "editable": true
   },
   "outputs": [
    {
     "name": "stdout",
     "output_type": "stream",
     "text": [
      "desserts\n"
     ]
    }
   ],
   "source": [
    "def word_in_reverse(word):\n",
    "    return word[::-1] # When called with a string, returns the string in reversed order\n",
    "\n",
    "print(word_in_reverse('stressed'))"
   ]
  },
  {
   "cell_type": "markdown",
   "metadata": {
    "deletable": true,
    "editable": true
   },
   "source": [
    "* If the function is well-documented, you don't even need to know it's inner workings to use it!\n",
    "* Python has a lot of build-in functions"
   ]
  },
  {
   "cell_type": "code",
   "execution_count": 13,
   "metadata": {
    "collapsed": false,
    "deletable": true,
    "editable": true
   },
   "outputs": [
    {
     "name": "stdout",
     "output_type": "stream",
     "text": [
      "120\n"
     ]
    }
   ],
   "source": [
    "import math\n",
    "print(math.factorial(5)) # The function math.factorial takes one argument"
   ]
  },
  {
   "cell_type": "code",
   "execution_count": 14,
   "metadata": {
    "collapsed": false,
    "deletable": true,
    "editable": true
   },
   "outputs": [
    {
     "name": "stdout",
     "output_type": "stream",
     "text": [
      "6227020800 6227020800\n"
     ]
    }
   ],
   "source": [
    "# The input to a function can be an(y) expression (if the expression yields the correct type)\n",
    "factorial_to_take= 4 + 9\n",
    "print(math.factorial(factorial_to_take), math.factorial(13))"
   ]
  },
  {
   "cell_type": "code",
   "execution_count": 15,
   "metadata": {
    "collapsed": false,
    "deletable": true,
    "editable": true
   },
   "outputs": [
    {
     "name": "stdout",
     "output_type": "stream",
     "text": [
      "720\n"
     ]
    }
   ],
   "source": [
    "# Composition: nested calls\n",
    "print(math.factorial(math.factorial(3)))"
   ]
  },
  {
   "cell_type": "code",
   "execution_count": 16,
   "metadata": {
    "collapsed": false,
    "deletable": true,
    "editable": true
   },
   "outputs": [
    {
     "name": "stdout",
     "output_type": "stream",
     "text": [
      "720\n"
     ]
    }
   ],
   "source": [
    "first_factorial = math.factorial(3)\n",
    "second_factorial = math.factorial(first_factorial)\n",
    "print(second_factorial)"
   ]
  },
  {
   "cell_type": "markdown",
   "metadata": {
    "deletable": true,
    "editable": true
   },
   "source": [
    "## Functions (2)\n",
    "* a _subprogram_ (program in a program)\n",
    "* block of code (recipe, series of instructions) given its own _name_\n",
    "* created by a **function definition** <br>"
   ]
  },
  {
   "cell_type": "code",
   "execution_count": 17,
   "metadata": {
    "collapsed": false,
    "deletable": true,
    "editable": true
   },
   "outputs": [
    {
     "name": "stdout",
     "output_type": "stream",
     "text": [
      "86.0\n"
     ]
    }
   ],
   "source": [
    "# Celcius to Fahrenheit\n",
    "def celcius_to_fahrenheit(degrees_celcius):\n",
    "    return 32 + (degrees_celcius * 9/5)\n",
    "\n",
    "print(celcius_to_fahrenheit(30))"
   ]
  },
  {
   "cell_type": "code",
   "execution_count": 19,
   "metadata": {
    "collapsed": false,
    "deletable": true,
    "editable": true
   },
   "outputs": [
    {
     "name": "stdout",
     "output_type": "stream",
     "text": [
      "Hello there\n",
      "2018-09-26 23:09:48.259236\n"
     ]
    }
   ],
   "source": [
    "# Function with no arguments. (If no return is specified, it returns None)\n",
    "import datetime\n",
    "# from datetime import datetime\n",
    "\n",
    "def tell_the_time():\n",
    "    print(datetime.datetime.now())\n",
    "\n",
    "print(\"Hello there\")\n",
    "\n",
    "tell_the_time()    "
   ]
  },
  {
   "cell_type": "code",
   "execution_count": 23,
   "metadata": {
    "collapsed": false,
    "deletable": true,
    "editable": true
   },
   "outputs": [
    {
     "name": "stdout",
     "output_type": "stream",
     "text": [
      "2018-09-26 23:11:24.682370\n",
      "None\n"
     ]
    }
   ],
   "source": [
    "# Assign tell_the_time() to a variable. What will it do?\n",
    "a = tell_the_time()\n",
    "print(a) #gives me 'None'"
   ]
  },
  {
   "cell_type": "markdown",
   "metadata": {
    "deletable": true,
    "editable": true
   },
   "source": [
    "## What happens when a function is invoked?\n",
    "* Normal flow of execution (order of instructions) is temporarily stopped and takes a detour into the function *body*\n",
    "* First: the values of the actual parameters (arguments) are assigned to the formal parameters\n",
    "* The body of the function is executed\n",
    "* Control returns to the code following the function **call**"
   ]
  },
  {
   "cell_type": "markdown",
   "metadata": {
    "deletable": true,
    "editable": true
   },
   "source": [
    "* Meaning of `__main__` (can be considered as the outermost 'function')\n",
    "\n",
    "## Call Stack \n",
    "* When you call a function, the system sets aside space in memory for that function to do its necessary work \n",
    "* Stack frames will be created<br><br>\n",
    "* If main() calls move(), which then calls direction(), all three functions have open frames<br><br>\n",
    "\n",
    "* These frames are arranged in a stack. The frame for the most recently called function is always on the top of the stack \n",
    "* When a new function is called, a new frame is pushed onto the top of the stack and becomes the active frame"
   ]
  },
  {
   "cell_type": "markdown",
   "metadata": {
    "deletable": true,
    "editable": true
   },
   "source": [
    "* Stack diagrams (see whiteboard and book pg. 28)\n",
    "  * Stack trace\n",
    "  * Traceback: tells you what program file the error occurred in, and what line, and what functions were executing at the time. <br> It also shows the line of code that caused the error."
   ]
  },
  {
   "cell_type": "markdown",
   "metadata": {},
   "source": [
    "* Fruitful function: return results\n",
    "* Void function: don't return a value"
   ]
  },
  {
   "cell_type": "code",
   "execution_count": null,
   "metadata": {
    "collapsed": true
   },
   "outputs": [],
   "source": []
  }
 ],
 "metadata": {
  "kernelspec": {
   "display_name": "Python 3",
   "language": "python",
   "name": "python3"
  },
  "language_info": {
   "codemirror_mode": {
    "name": "ipython",
    "version": 3
   },
   "file_extension": ".py",
   "mimetype": "text/x-python",
   "name": "python",
   "nbconvert_exporter": "python",
   "pygments_lexer": "ipython3",
   "version": "3.5.2"
  }
 },
 "nbformat": 4,
 "nbformat_minor": 2
}
