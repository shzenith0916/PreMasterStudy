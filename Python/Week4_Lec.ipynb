{
 "cells": [
  {
   "cell_type": "markdown",
   "metadata": {
    "deletable": true,
    "editable": true
   },
   "source": [
    "Covers below topics:\n",
    "* Conditionals: booleans, if-construct, For\n",
    "* List: append, extend, delete"
   ]
  },
  {
   "cell_type": "markdown",
   "metadata": {
    "deletable": true,
    "editable": true
   },
   "source": [
    "## The Boolean type (bool)\n",
    "-  A type like int, float, and str \n",
    "-  The Bool type has only two literal values: True, False\n",
    "-  1 is to int as True is to Bool"
   ]
  },
  {
   "cell_type": "code",
   "execution_count": 1,
   "metadata": {
    "collapsed": false,
    "deletable": true,
    "editable": true
   },
   "outputs": [
    {
     "name": "stdout",
     "output_type": "stream",
     "text": [
      "<class 'bool'>\n",
      "True\n"
     ]
    }
   ],
   "source": [
    "name = 'Christabel Smith'\n",
    "is_long_name = len(name) > 4\n",
    "print(type(is_long_name))\n",
    "print(is_long_name)"
   ]
  },
  {
   "cell_type": "markdown",
   "metadata": {
    "deletable": true,
    "editable": true
   },
   "source": [
    "-  for boolean comparison operators (called relational operators in the book), confer page 48"
   ]
  },
  {
   "cell_type": "code",
   "execution_count": 2,
   "metadata": {
    "collapsed": false,
    "deletable": true,
    "editable": true
   },
   "outputs": [
    {
     "data": {
      "text/plain": [
       "True"
      ]
     },
     "execution_count": 2,
     "metadata": {},
     "output_type": "execute_result"
    }
   ],
   "source": [
    "name = 'Sophia'\n",
    "is_long_name = len(name)>4\n",
    "is_long_name"
   ]
  },
  {
   "cell_type": "code",
   "execution_count": 3,
   "metadata": {
    "collapsed": false,
    "deletable": true,
    "editable": true
   },
   "outputs": [
    {
     "data": {
      "text/plain": [
       "True"
      ]
     },
     "execution_count": 3,
     "metadata": {},
     "output_type": "execute_result"
    }
   ],
   "source": [
    "name = 'Ann'\n",
    "is_long_name"
   ]
  },
  {
   "cell_type": "markdown",
   "metadata": {
    "collapsed": true,
    "deletable": true,
    "editable": true
   },
   "source": [
    "-   'is_long_name' is evaluated with 'Sophia' and gives a result \"True\". Then this \"True\" value is stored in is_long_name.\n",
    "<br>Therefore, even if we evaluate second 'is_long_name', the result would not be \"False\" just giving already stored value \"True\"."
   ]
  },
  {
   "cell_type": "markdown",
   "metadata": {
    "deletable": true,
    "editable": true
   },
   "source": [
    "## Combining logical operators\n",
    "* Operators that take `Bool`eans and return `Bool`eans"
   ]
  },
  {
   "cell_type": "code",
   "execution_count": 4,
   "metadata": {
    "collapsed": false,
    "deletable": true,
    "editable": true
   },
   "outputs": [
    {
     "name": "stdout",
     "output_type": "stream",
     "text": [
      "True\n",
      "False\n",
      "True\n",
      "True\n"
     ]
    }
   ],
   "source": [
    "name = 'Christopher' \n",
    "is_long_name = len(name)>4\n",
    "name_starts_with_C = True\n",
    "name_ends_with_e = False\n",
    "print(is_long_name and name_starts_with_C)\n",
    "print(is_long_name and name_ends_with_e)\n",
    "print(is_long_name or name_stars_with_C)\n",
    "print(is_long_name or name_ends_with_e)\n",
    "\n",
    "# True and False => False\n",
    "# True or False => True\n",
    "# In 'and' statements, if there is at least 1 false value, then it evalues as false\n",
    "# In 'or' statements, if there is at least 1 true value, then it evaluates as true"
   ]
  },
  {
   "cell_type": "code",
   "execution_count": 5,
   "metadata": {
    "collapsed": false,
    "deletable": true,
    "editable": true
   },
   "outputs": [
    {
     "data": {
      "text/plain": [
       "False"
      ]
     },
     "execution_count": 5,
     "metadata": {},
     "output_type": "execute_result"
    }
   ],
   "source": [
    "not(17)"
   ]
  },
  {
   "cell_type": "code",
   "execution_count": 6,
   "metadata": {
    "collapsed": false,
    "deletable": true,
    "editable": true
   },
   "outputs": [
    {
     "name": "stdout",
     "output_type": "stream",
     "text": [
      "True\n",
      "False\n"
     ]
    }
   ],
   "source": [
    "# TODO: explanation\n",
    "value = -3\n",
    "is_a_positive_value = not(not(value))\n",
    "print(is_a_positive_value)\n",
    "is_a_positive_value = value > 0\n",
    "print(is_a_positive_value)"
   ]
  },
  {
   "cell_type": "code",
   "execution_count": 7,
   "metadata": {
    "collapsed": false,
    "deletable": true,
    "editable": true
   },
   "outputs": [
    {
     "name": "stdout",
     "output_type": "stream",
     "text": [
      "False\n"
     ]
    }
   ],
   "source": [
    "value = -3\n",
    "is_a_positive_value = not(value) #Removed 'NOT' and it is showing 'False\n",
    "print(is_a_positive_value)"
   ]
  },
  {
   "cell_type": "code",
   "execution_count": 8,
   "metadata": {
    "collapsed": false,
    "deletable": true,
    "editable": true
   },
   "outputs": [
    {
     "name": "stdout",
     "output_type": "stream",
     "text": [
      "False\n"
     ]
    }
   ],
   "source": [
    "# Consider short-circuit evaluation\n",
    "# Since first conditon is false and the statement includes 'and',\n",
    "# you don't have to check second contion is true or false. \n",
    "is_long_name_1 = len('Ann')>4\n",
    "\n",
    "is_long_name_2 = len('Thomson')>4\n",
    "\n",
    "result = is_long_name_1 and is_long_name_2\n",
    "print(result)"
   ]
  },
  {
   "cell_type": "code",
   "execution_count": 9,
   "metadata": {
    "collapsed": false,
    "deletable": true,
    "editable": true
   },
   "outputs": [
    {
     "name": "stdout",
     "output_type": "stream",
     "text": [
      "True\n"
     ]
    }
   ],
   "source": [
    "# Consider short-circuit evaluation\n",
    "is_long_name_1 = len('Ann')>4\n",
    "\n",
    "is_long_name_2 = len('Thomson')>4\n",
    "\n",
    "result = is_long_name_1 or is_long_name_2\n",
    "print(result)"
   ]
  },
  {
   "cell_type": "markdown",
   "metadata": {
    "deletable": true,
    "editable": true
   },
   "source": [
    "## `if`: *conditional* execution\n",
    "* Influences the execution flow"
   ]
  },
  {
   "cell_type": "code",
   "execution_count": 10,
   "metadata": {
    "collapsed": false,
    "deletable": true,
    "editable": true
   },
   "outputs": [
    {
     "name": "stdout",
     "output_type": "stream",
     "text": [
      "I only may be run once\n",
      "The name is relatively short\n",
      "You will always see this line\n",
      "I only may be run once\n",
      "I only may be run once\n",
      "The name is relatively short\n",
      "You will always see this line\n"
     ]
    }
   ],
   "source": [
    "#if <expr>:\n",
    "#    print('The name is relatively long')\n",
    "#    print('Allow more room to print this name in a table')\n",
    "#else:\n",
    "#    print('The name is relatively short')\n",
    "#print('You will always see this line')\n",
    "\n",
    "def side_effect():\n",
    "    print('I only may be run once')\n",
    "    return False\n",
    "\n",
    "temporary_boolean = side_effect()\n",
    "if temporary_boolean:\n",
    "    print('The name is relatively long')\n",
    "    print('Allow more room to print this name in a table')\n",
    "if not(temporary_boolean):\n",
    "    print('The name is relatively short')\n",
    "print('You will always see this line')\n",
    "\n",
    "if side_effect():\n",
    "    print('The name is relatively long')\n",
    "    print('Allow more room to print this name in a table')\n",
    "if not(side_effect()):\n",
    "    print('The name is relatively short')\n",
    "print('You will always see this line')\n"
   ]
  },
  {
   "cell_type": "code",
   "execution_count": 11,
   "metadata": {
    "collapsed": false,
    "deletable": true,
    "editable": true
   },
   "outputs": [
    {
     "name": "stdout",
     "output_type": "stream",
     "text": [
      "None evaluates to False it seems\n"
     ]
    }
   ],
   "source": [
    "def emptyFunction():\n",
    "    return\n",
    "\n",
    "if not emptyFunction():\n",
    "    print('None evaluates to False it seems')"
   ]
  },
  {
   "cell_type": "code",
   "execution_count": 12,
   "metadata": {
    "collapsed": false,
    "deletable": true,
    "editable": true
   },
   "outputs": [
    {
     "name": "stdout",
     "output_type": "stream",
     "text": [
      "Andre, Ben, Chris, and Ann\n"
     ]
    }
   ],
   "source": [
    "def print_list_of_names(names):\n",
    "    if len(names) == 0:\n",
    "        print('There are no names.')\n",
    "    elif len(names) == 1:\n",
    "        print(names[0])\n",
    "    elif len(names) == 2:\n",
    "        print(names[0], 'and', names[1])\n",
    "    else:\n",
    "        nr_in_row = 1 \n",
    "        while nr_in_row < len(names):\n",
    "            print('{}, '.format(names[nr_in_row - 1]), end='')\n",
    "            nr_in_row = nr_in_row + 1\n",
    "        print('and', names[-1])\n",
    "\n",
    "print_list_of_names(['Andre', 'Ben', 'Chris', 'Ann'])"
   ]
  },
  {
   "cell_type": "code",
   "execution_count": 13,
   "metadata": {
    "collapsed": false,
    "deletable": true,
    "editable": true
   },
   "outputs": [
    {
     "name": "stdout",
     "output_type": "stream",
     "text": [
      "Andre,\n",
      "Ben,\n",
      "and Chris\n"
     ]
    }
   ],
   "source": [
    "def print_list_of_names(names):\n",
    "    if len(names) == 0:\n",
    "        print('There is no names')\n",
    "    else: \n",
    "        nr_in_row = 1 #initially\n",
    "        while nr_in_row < len(names):\n",
    "            print('{},'.format(names[nr_in_row - 1]))\n",
    "            nr_in_row = nr_in_row + 1\n",
    "        print('and', names[-1])\n",
    "print_list_of_names(['Andre', 'Ben', 'Chris'])"
   ]
  },
  {
   "cell_type": "code",
   "execution_count": 14,
   "metadata": {
    "collapsed": false,
    "deletable": true,
    "editable": true
   },
   "outputs": [
    {
     "name": "stdout",
     "output_type": "stream",
     "text": [
      "1 At this point, the index had a value of: 0\n",
      "2 At this point, the index had a value of: 1\n",
      "3 At this point, the index had a value of: 2\n",
      "4 At this point, the index had a value of: 3\n",
      "\n",
      "1 At this point, the index had a value of: 0\n",
      "2 At this point, the index had a value of: 1\n",
      "3 At this point, the index had a value of: 2\n",
      "4 At this point, the index had a value of: 3\n",
      "\n"
     ]
    }
   ],
   "source": [
    "## Recursion\n",
    "\n",
    "def print_a_list(the_list, index = 0):\n",
    "    if index >= len(the_list):\n",
    "        print('')\n",
    "    else:\n",
    "        print(the_list[index], end=' ')\n",
    "        print(\"At this point, the index had a value of:\", index)\n",
    "        print_a_list(the_list, index+1)\n",
    "        \n",
    "print_a_list([1, 2, 3, 4], index = 0)\n",
    "print_a_list([1, 2, 3, 4])\n"
   ]
  },
  {
   "cell_type": "markdown",
   "metadata": {
    "collapsed": true,
    "deletable": true,
    "editable": true
   },
   "source": [
    "### **List** (peek ahead at chapter 10)\n",
    "* Another *type* that is built-in to python\n",
    "* Multiple values in one variable, sequence of values\n",
    "* Values are **ordered**\n",
    "* In a `str`: values are characters; in a `list`: the values can be any type\n",
    "* Values in a list are called **elements** but also **items** of the list\n",
    "* The values in a list 'literal' are enclosed in square brackets (`[ ]`)\n",
    "\n",
    "* A literal list: `['Programming', 'Databases', 'Machine learning', 'Algorithms', 'Introduction']`\n",
    "\n",
    "## Nested list\n",
    "* A `list` can be a value (element) of another list. This leads to what is known as a **nested** list."
   ]
  },
  {
   "cell_type": "code",
   "execution_count": 15,
   "metadata": {
    "collapsed": false,
    "deletable": true,
    "editable": true
   },
   "outputs": [
    {
     "data": {
      "text/plain": [
       "[1, 2, [3, 5], 7, ['a', 'b']]"
      ]
     },
     "execution_count": 15,
     "metadata": {},
     "output_type": "execute_result"
    }
   ],
   "source": [
    "[1, 2, [3, 5], 7, ['a', 'b']]"
   ]
  },
  {
   "cell_type": "code",
   "execution_count": 16,
   "metadata": {
    "collapsed": false,
    "deletable": true,
    "editable": true
   },
   "outputs": [
    {
     "name": "stdout",
     "output_type": "stream",
     "text": [
      "[6, 6] [7, 8] [5, 7]\n"
     ]
    }
   ],
   "source": [
    "x=[\n",
    "    [5,7],[6,6],[7,2],[7,8],[2,5] #nested list\n",
    "]\n",
    "print(x[1],x[3],x[0])"
   ]
  },
  {
   "cell_type": "code",
   "execution_count": 17,
   "metadata": {
    "collapsed": false,
    "deletable": true,
    "editable": true
   },
   "outputs": [
    {
     "name": "stdout",
     "output_type": "stream",
     "text": [
      "[7, 2] [7, 8] [[5, 7], [6, 6]]\n"
     ]
    }
   ],
   "source": [
    "x=[\n",
    "    [[5,7],[6,6]], #nested list in nested list\n",
    "    [7,2],[7,8],[2,5]\n",
    "]\n",
    "print(x[1],x[2],x[0])"
   ]
  },
  {
   "cell_type": "code",
   "execution_count": 18,
   "metadata": {
    "collapsed": false,
    "deletable": true,
    "editable": true
   },
   "outputs": [
    {
     "name": "stdout",
     "output_type": "stream",
     "text": [
      "Programming\n",
      "Algorithms\n"
     ]
    },
    {
     "data": {
      "text/plain": [
       "'Databases'"
      ]
     },
     "execution_count": 18,
     "metadata": {},
     "output_type": "execute_result"
    }
   ],
   "source": [
    "my_classes = ['Programming', 'Algorithms', 'Databases', 'Introduction', 'Machine learning']\n",
    "print(my_classes[0])\n",
    "print(my_classes[1])\n",
    "my_classes[2]"
   ]
  },
  {
   "cell_type": "markdown",
   "metadata": {
    "deletable": true,
    "editable": true
   },
   "source": [
    "## Looping with a list\n",
    "* *Can* be done with the `while` construction we discussed earlier:"
   ]
  },
  {
   "cell_type": "code",
   "execution_count": 19,
   "metadata": {
    "collapsed": false,
    "deletable": true,
    "editable": true
   },
   "outputs": [
    {
     "name": "stdout",
     "output_type": "stream",
     "text": [
      "Carrots\n",
      "Onions\n",
      "Potatoes\n",
      "Pepper\n",
      "Salt\n"
     ]
    }
   ],
   "source": [
    "ingredients = ['Carrots', 'Onions', 'Potatoes', 'Pepper', 'Salt']\n",
    "\n",
    "ingredient_index = 0 # Initially\n",
    "\n",
    "while ingredient_index < len(ingredients):\n",
    "    print(ingredients[ingredient_index])\n",
    "    ingredient_index += 1"
   ]
  },
  {
   "cell_type": "markdown",
   "metadata": {
    "deletable": true,
    "editable": true
   },
   "source": [
    "* You can change a `list`, even if it has been assigned to two variables:"
   ]
  },
  {
   "cell_type": "code",
   "execution_count": 20,
   "metadata": {
    "collapsed": false,
    "deletable": true,
    "editable": true
   },
   "outputs": [
    {
     "name": "stdout",
     "output_type": "stream",
     "text": [
      "['Mercedes', 'Red Bull', 'Ferrari']\n"
     ]
    }
   ],
   "source": [
    "a = ['Mercedes', 'Toro Rosso', 'Ferrari']\n",
    "b = a\n",
    "a[1] = 'Red Bull'\n",
    "print(b)"
   ]
  },
  {
   "cell_type": "markdown",
   "metadata": {
    "deletable": true,
    "editable": true
   },
   "source": [
    "This is called **mutability** (being able to change one element and/or part of the list)"
   ]
  },
  {
   "cell_type": "code",
   "execution_count": 21,
   "metadata": {
    "collapsed": false,
    "deletable": true,
    "editable": true
   },
   "outputs": [
    {
     "name": "stdout",
     "output_type": "stream",
     "text": [
      "['Hi Ann!', 'Hi Barry!', 'Hi Chris!']\n"
     ]
    }
   ],
   "source": [
    "# To update elements in a list, you may need an index\n",
    "\n",
    "names=['Ann', 'Barry', 'Chris']\n",
    "\n",
    "names[0] = names[0] + '!' # literal indexing\n",
    "names[1] = names[1] + '!'\n",
    "names[2] = names[2] + '!'\n",
    "\n",
    "for index in range(len(names)):\n",
    "    names[index] = 'Hi ' + names[index]\n",
    "    \n",
    "print(names)"
   ]
  },
  {
   "cell_type": "markdown",
   "metadata": {
    "deletable": true,
    "editable": true
   },
   "source": [
    "## Addition (plus) concatenates a list (just like the str type)\n",
    "`[1, 2, 3] + [4, 5, 6]` --> `[1, 2, 3, 4, 5, 6]`\n",
    "\n",
    "## Multiplication leads to repetition (just like the str type)\n",
    "`3 * [1, 2, 3]` --> `[1, 2, 3, 1, 2, 3, 1, 2, 3]` \n",
    "[1,2,3] + [1,2,3] + [1,2,3]"
   ]
  },
  {
   "cell_type": "markdown",
   "metadata": {
    "deletable": true,
    "editable": true
   },
   "source": [
    "## Append and extend\n",
    "\n",
    "* `list.append(element)`: appends a new element (at the end) to an existing list\n",
    "* `list.extend(list)`: appends the *elements of a list* to another list  \n",
    "\n",
    "-Extending leads to a new list is the concatenation of a and b<br>\n",
    "-Appending leads to a list with a new element: adding 'b' list as an element"
   ]
  },
  {
   "cell_type": "code",
   "execution_count": 22,
   "metadata": {
    "collapsed": false,
    "deletable": true,
    "editable": true
   },
   "outputs": [
    {
     "name": "stdout",
     "output_type": "stream",
     "text": [
      "Append:  [1, 2, 3, ['A', 'B', 'C']] Length:  4\n",
      "Extend:  [1, 2, 3, 'A', 'B', 'C'] Length:  6\n"
     ]
    }
   ],
   "source": [
    "# Append\n",
    "a = [1, 2, 3]\n",
    "b = ['A', 'B', 'C']\n",
    "\n",
    "a.append(b)\n",
    "print(\"Append: \", a, \"Length: \", len(a))\n",
    "\n",
    "#Extend\n",
    "a = [1, 2, 3]\n",
    "b = ['A', 'B', 'C']\n",
    "\n",
    "a.extend(b)\n",
    "print(\"Extend: \", a, \"Length: \", len(a))"
   ]
  },
  {
   "cell_type": "markdown",
   "metadata": {
    "deletable": true,
    "editable": true
   },
   "source": [
    "### Sorting a list"
   ]
  },
  {
   "cell_type": "code",
   "execution_count": 23,
   "metadata": {
    "collapsed": false,
    "deletable": true,
    "editable": true
   },
   "outputs": [
    {
     "data": {
      "text/plain": [
       "[1, 2, 3, 4, 5, 6, 7, 9]"
      ]
     },
     "execution_count": 23,
     "metadata": {},
     "output_type": "execute_result"
    }
   ],
   "source": [
    "sorted([1,6,3,7,9,2,5,4])"
   ]
  },
  {
   "cell_type": "markdown",
   "metadata": {
    "collapsed": true,
    "deletable": true,
    "editable": true
   },
   "source": [
    "## Deleting list elements"
   ]
  },
  {
   "cell_type": "code",
   "execution_count": 28,
   "metadata": {
    "collapsed": false,
    "deletable": true,
    "editable": true
   },
   "outputs": [
    {
     "data": {
      "text/plain": [
       "['Butter', 'Cheese', 'Tomatoes']"
      ]
     },
     "execution_count": 28,
     "metadata": {},
     "output_type": "execute_result"
    }
   ],
   "source": [
    "my_list = ['Butter', 'Cheese', 'Eggs', 'Tomatoes']\n",
    "\n",
    "del my_list[2]\n",
    "my_list"
   ]
  },
  {
   "cell_type": "code",
   "execution_count": 29,
   "metadata": {
    "collapsed": false,
    "deletable": true,
    "editable": true
   },
   "outputs": [
    {
     "data": {
      "text/plain": [
       "'Cheese'"
      ]
     },
     "execution_count": 29,
     "metadata": {},
     "output_type": "execute_result"
    }
   ],
   "source": [
    "my_list.pop(1)"
   ]
  },
  {
   "cell_type": "code",
   "execution_count": 30,
   "metadata": {
    "collapsed": false,
    "deletable": true,
    "editable": true
   },
   "outputs": [
    {
     "data": {
      "text/plain": [
       "['Butter', 'Tomatoes']"
      ]
     },
     "execution_count": 30,
     "metadata": {},
     "output_type": "execute_result"
    }
   ],
   "source": [
    "my_list"
   ]
  },
  {
   "cell_type": "markdown",
   "metadata": {
    "deletable": true,
    "editable": true
   },
   "source": [
    "### 2. Based on the value"
   ]
  },
  {
   "cell_type": "code",
   "execution_count": 31,
   "metadata": {
    "collapsed": false,
    "deletable": true,
    "editable": true
   },
   "outputs": [
    {
     "data": {
      "text/plain": [
       "['Butter', 'Cheese', 'Tomatoes']"
      ]
     },
     "execution_count": 31,
     "metadata": {},
     "output_type": "execute_result"
    }
   ],
   "source": [
    "my_list = ['Butter', 'Cheese', 'Eggs', 'Tomatoes']\n",
    "my_list.remove('Eggs')\n",
    "my_list"
   ]
  },
  {
   "cell_type": "code",
   "execution_count": null,
   "metadata": {
    "collapsed": true,
    "deletable": true,
    "editable": true
   },
   "outputs": [],
   "source": []
  }
 ],
 "metadata": {
  "kernelspec": {
   "display_name": "Python 3",
   "language": "python",
   "name": "python3"
  },
  "language_info": {
   "codemirror_mode": {
    "name": "ipython",
    "version": 3
   },
   "file_extension": ".py",
   "mimetype": "text/x-python",
   "name": "python",
   "nbconvert_exporter": "python",
   "pygments_lexer": "ipython3",
   "version": "3.5.2"
  }
 },
 "nbformat": 4,
 "nbformat_minor": 2
}
